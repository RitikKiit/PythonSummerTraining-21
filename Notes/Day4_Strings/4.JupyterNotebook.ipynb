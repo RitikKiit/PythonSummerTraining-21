{
 "cells": [
  {
   "cell_type": "code",
   "execution_count": 1,
   "metadata": {},
   "outputs": [
    {
     "name": "stdout",
     "output_type": "stream",
     "text": [
      "Enter your name: Sachin Yadav\n",
      "Welcome user Sachin Yadav to the world of python.\n"
     ]
    }
   ],
   "source": [
    "# code shell\n",
    "name = input(\"Enter your name: \")\n",
    "\n",
    "print(\"Welcome user\", name, \"to the world of python.\")\n"
   ]
  },
  {
   "cell_type": "code",
   "execution_count": 2,
   "metadata": {},
   "outputs": [
    {
     "name": "stdout",
     "output_type": "stream",
     "text": [
      "Sachin Yadav\n"
     ]
    }
   ],
   "source": [
    "print(name)"
   ]
  },
  {
   "cell_type": "markdown",
   "metadata": {},
   "source": [
    "![Python](https://upload.wikimedia.org/wikipedia/commons/thumb/c/c3/Python-logo-notext.svg/768px-Python-logo-notext.svg.png)\n",
    "\n",
    "---\n",
    "\n",
    "[YouTube Channel](https://www.youtube.com/channel/UCPeWQ1TFzjdkCj2kXfkmKqw)\n",
    "\n",
    "---\n",
    "\n",
    "[Github](https://github.com/sachinyadav3496)\n",
    "\n",
    "---\n",
    "\n",
    "<a href=\"https://python.org\">Python Website</a>\n",
    "\n",
    "---\n",
    "\n",
    "<h1 style='color:red'>Awesome</h1>\n",
    "\n",
    "---\n",
    "\n",
    "<img src=\"https://upload.wikimedia.org/wikipedia/commons/thumb/c/c3/Python-logo-notext.svg/768px-Python-logo-notext.svg.png\" height=100 width=100>\n",
    "\n",
    "# Main Heading\n",
    "## Sub Heading\n",
    "### Sub sub heading\n",
    "#### heading 4\n",
    "#### heading 5\n",
    "##### heading 6\n",
    "\n",
    "---\n",
    "\n",
    "horizontal line\n",
    "\n",
    "---\n",
    "\n",
    "hello this is for **documentation** of your code or for `Theory`\n",
    "\n",
    "1. Python\n",
    "*  Java\n",
    "*  C\n",
    "*  Ruby\n",
    "\n",
    "\n",
    "`shift + enter` - to run selected shell"
   ]
  },
  {
   "cell_type": "code",
   "execution_count": 4,
   "metadata": {},
   "outputs": [
    {
     "name": "stdout",
     "output_type": "stream",
     "text": [
      "*\n",
      "**\n",
      "***\n",
      "****\n",
      "*****\n",
      "******\n",
      "*******\n",
      "********\n",
      "*********\n",
      "**********\n"
     ]
    }
   ],
   "source": [
    "for _ in range(10):\n",
    "    print(\"*\"*(_+1))"
   ]
  },
  {
   "cell_type": "raw",
   "metadata": {},
   "source": [
    "### Shortcuts of Jupyter Notebook\n",
    "\n",
    "`Shift+Enter` - To run Selected Shell\n",
    "\n",
    "`Esc -> m` - Change Current into Markdown Shell\n",
    "\n",
    "`Esc -> y` - Change Current into Code Shell\n",
    "\n",
    "`Esc -> r` - Raw Shell"
   ]
  },
  {
   "cell_type": "code",
   "execution_count": null,
   "metadata": {},
   "outputs": [],
   "source": []
  },
  {
   "cell_type": "code",
   "execution_count": null,
   "metadata": {},
   "outputs": [],
   "source": []
  },
  {
   "cell_type": "markdown",
   "metadata": {},
   "source": [
    "### Shortcuts of Jupyter Notebook\n",
    "\n",
    "`Shift+Enter` - To **Run** Selected Shell\n",
    "\n",
    "`Esc -> m` - Change Current into **Markdown Shell**\n",
    "\n",
    "`Esc -> y` - Change Current into **Code Shell**\n",
    "\n",
    "`Esc -> r` - Change Current into **Raw Shell**\n",
    "\n",
    "`Esc -> c` - To **copy** current shell\n",
    "\n",
    "`Esc -> v` - To **paste** copied shell below current shell\n",
    "\n",
    "`Esc -> x` - To **cut** selected Shell\n",
    "\n",
    "`Esc -> dd` - To **delete** selected Shell\n",
    "\n",
    "`Esc -> z` - To **undo** last operation\n",
    "\n",
    "`Esc -> b` - To open a blank shell **below**\n",
    "\n",
    "`Esc -> a` - To open a blank shell **above**\n",
    "\n",
    "`Esc -> up/down arrow key` - To `navigate between` shell\n",
    "\n",
    "`Esc -> Enter` To **insert content** into a Shell\n",
    "\n",
    "`Esc -> ii` To **interrrupt Current Shell** KeyboardInterrupt\n",
    "\n",
    "`Esc -> 00` To **restart Notebook**"
   ]
  },
  {
   "cell_type": "code",
   "execution_count": 7,
   "metadata": {},
   "outputs": [
    {
     "ename": "KeyboardInterrupt",
     "evalue": "",
     "output_type": "error",
     "traceback": [
      "\u001b[1;31m---------------------------------------------------------------------------\u001b[0m",
      "\u001b[1;31mKeyboardInterrupt\u001b[0m                         Traceback (most recent call last)",
      "\u001b[1;32m<ipython-input-7-b7133701d76c>\u001b[0m in \u001b[0;36m<module>\u001b[1;34m\u001b[0m\n\u001b[0;32m      1\u001b[0m \u001b[1;32mwhile\u001b[0m \u001b[1;32mTrue\u001b[0m\u001b[1;33m:\u001b[0m\u001b[1;33m\u001b[0m\u001b[1;33m\u001b[0m\u001b[0m\n\u001b[1;32m----> 2\u001b[1;33m     \u001b[1;32mpass\u001b[0m\u001b[1;33m\u001b[0m\u001b[1;33m\u001b[0m\u001b[0m\n\u001b[0m",
      "\u001b[1;31mKeyboardInterrupt\u001b[0m: "
     ]
    }
   ],
   "source": [
    "while True:\n",
    "    pass"
   ]
  },
  {
   "cell_type": "code",
   "execution_count": null,
   "metadata": {},
   "outputs": [],
   "source": [
    "name = input()\n",
    "print(name)"
   ]
  },
  {
   "cell_type": "code",
   "execution_count": null,
   "metadata": {},
   "outputs": [],
   "source": [
    "print(\"hello\")"
   ]
  },
  {
   "cell_type": "markdown",
   "metadata": {},
   "source": [
    "### Strings"
   ]
  },
  {
   "cell_type": "markdown",
   "metadata": {},
   "source": [
    "#### Data Type\n",
    "\n",
    "1. `Numbers`\n",
    "    * **int** - 45, 678\n",
    "    * **float** - 6.02, 3.14\n",
    "    * **complex** - 56+6j, 4.5+6.7j (j->iota->$\\sqrt {-1}$)\n",
    "* `Strings`\n",
    "    * **single line string** - 'hello world', \"python is awesome\"\n",
    "    * **multi-line string** - \"\"\"you can write multiple lines using triple single/double quotes.\"\"\"\n",
    "* `List`\n",
    "    * **homogenous** - [ 1, 2,3 ,4 ] , [ \"java\", \"c\", \"c++\" ] (Array)\n",
    "    * **hetrogenous** - [ 1, 3.14, 'hello', ['hi', 'bye'] ]\n",
    "* `Tuple`\n",
    "    * **immutable** list - (1, 2, 3, 4) -> not changeable \n",
    "* `Dictionary`\n",
    "    * collection of **key-value pair**\n",
    "    * { 'name': 'sachin', 'age': 25, 'country': 'India' }\n",
    "* `Set`\n",
    "    * **unique** collection of **immutable** objects\n",
    "    * { 1, 2,3 ,4 } \n",
    "* `Frozenset`\n",
    "    * **Immutable Set**\n",
    "    * frozenset({1,2 ,3 ,4 })\n",
    "* `Boolean`\n",
    "    * **False** - 0, None, False, \"\", {}, [], empty object\n",
    "    * **True** - except False values everything is consider True\n",
    "* `None`\n",
    "    * it represents null value or nothing "
   ]
  },
  {
   "cell_type": "code",
   "execution_count": null,
   "metadata": {},
   "outputs": [],
   "source": []
  }
 ],
 "metadata": {
  "kernelspec": {
   "display_name": "Python 3",
   "language": "python",
   "name": "python3"
  },
  "language_info": {
   "codemirror_mode": {
    "name": "ipython",
    "version": 3
   },
   "file_extension": ".py",
   "mimetype": "text/x-python",
   "name": "python",
   "nbconvert_exporter": "python",
   "pygments_lexer": "ipython3",
   "version": "3.8.3"
  }
 },
 "nbformat": 4,
 "nbformat_minor": 4
}
