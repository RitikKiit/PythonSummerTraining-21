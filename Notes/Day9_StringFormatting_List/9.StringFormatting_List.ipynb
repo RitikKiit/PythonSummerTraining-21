{
 "cells": [
  {
   "cell_type": "markdown",
   "metadata": {},
   "source": [
    "#### Strings Methods\n",
    "\n",
    "    find & replace\n",
    "    \n",
    "    validation methods - islower, isupper, ...\n",
    "    \n",
    "    formatting \n",
    "    \n",
    "    "
   ]
  },
  {
   "cell_type": "code",
   "execution_count": 1,
   "metadata": {},
   "outputs": [],
   "source": [
    "s = \"      Hello World!    \""
   ]
  },
  {
   "cell_type": "code",
   "execution_count": 2,
   "metadata": {},
   "outputs": [],
   "source": [
    "s = s.strip()"
   ]
  },
  {
   "cell_type": "code",
   "execution_count": 3,
   "metadata": {},
   "outputs": [
    {
     "name": "stdout",
     "output_type": "stream",
     "text": [
      "Hello World!\n"
     ]
    }
   ],
   "source": [
    "print(s)"
   ]
  },
  {
   "cell_type": "markdown",
   "metadata": {},
   "source": [
    "### Find "
   ]
  },
  {
   "cell_type": "code",
   "execution_count": 15,
   "metadata": {},
   "outputs": [],
   "source": [
    "s = \"\"\"if you want to store some text data\n",
    "you can store in string format in any language.\n",
    "strings most common data type in history of programming.\"\"\""
   ]
  },
  {
   "cell_type": "code",
   "execution_count": 16,
   "metadata": {},
   "outputs": [
    {
     "name": "stdout",
     "output_type": "stream",
     "text": [
      "if you want to store some text data\n",
      "you can store in string format in any language.\n",
      "strings most common data type in history of programming.\n"
     ]
    }
   ],
   "source": [
    "print(s)"
   ]
  },
  {
   "cell_type": "code",
   "execution_count": 17,
   "metadata": {},
   "outputs": [],
   "source": [
    "sub = \"string\" # pattern "
   ]
  },
  {
   "cell_type": "code",
   "execution_count": 18,
   "metadata": {},
   "outputs": [
    {
     "name": "stdout",
     "output_type": "stream",
     "text": [
      "53\n"
     ]
    }
   ],
   "source": [
    "index = s.find(sub) # start=0, end\n",
    "print(index)"
   ]
  },
  {
   "cell_type": "code",
   "execution_count": 19,
   "metadata": {},
   "outputs": [
    {
     "name": "stdout",
     "output_type": "stream",
     "text": [
      "if you want to store some text data\n",
      "you can store in \n"
     ]
    }
   ],
   "source": [
    "print(s[:index])"
   ]
  },
  {
   "cell_type": "code",
   "execution_count": 20,
   "metadata": {},
   "outputs": [
    {
     "name": "stdout",
     "output_type": "stream",
     "text": [
      "string format in any language.\n",
      "strings most common data type in history of programming.\n"
     ]
    }
   ],
   "source": [
    "print(s[index:])"
   ]
  },
  {
   "cell_type": "code",
   "execution_count": 21,
   "metadata": {},
   "outputs": [
    {
     "name": "stdout",
     "output_type": "stream",
     "text": [
      "if you want to store some text data\n",
      "you can store in string format in any language.\n",
      "strings most common data type in history of programming.\n"
     ]
    }
   ],
   "source": [
    "print(s)"
   ]
  },
  {
   "cell_type": "code",
   "execution_count": 22,
   "metadata": {},
   "outputs": [
    {
     "name": "stdout",
     "output_type": "stream",
     "text": [
      "-1\n"
     ]
    }
   ],
   "source": [
    "i = s.find('sachin')\n",
    "print(i)"
   ]
  },
  {
   "cell_type": "code",
   "execution_count": 23,
   "metadata": {},
   "outputs": [
    {
     "name": "stdout",
     "output_type": "stream",
     "text": [
      "84\n"
     ]
    }
   ],
   "source": [
    "i = s.find('string', 54)\n",
    "print(i)"
   ]
  },
  {
   "cell_type": "code",
   "execution_count": 24,
   "metadata": {},
   "outputs": [],
   "source": [
    "s = \"hello world python is awesome\""
   ]
  },
  {
   "cell_type": "code",
   "execution_count": 26,
   "metadata": {},
   "outputs": [
    {
     "data": {
      "text/plain": [
       "-1"
      ]
     },
     "execution_count": 26,
     "metadata": {},
     "output_type": "execute_result"
    }
   ],
   "source": [
    "s.find('python', 0, 11)"
   ]
  },
  {
   "cell_type": "code",
   "execution_count": 32,
   "metadata": {},
   "outputs": [
    {
     "name": "stdout",
     "output_type": "stream",
     "text": [
      "all dogs are not like cats.\n",
      "all cats are not like dogs.\n",
      "dogs are most loyal animal on earth.\n"
     ]
    }
   ],
   "source": [
    "s = \"\"\"all dogs are not like cats.\n",
    "all cats are not like dogs.\n",
    "dogs are most loyal animal on earth.\"\"\"\n",
    "print(s)"
   ]
  },
  {
   "cell_type": "code",
   "execution_count": 31,
   "metadata": {},
   "outputs": [
    {
     "name": "stdout",
     "output_type": "stream",
     "text": [
      "all CATs are not like cats.\n",
      "all cats are not like CATs.\n",
      "CATs are most loyal animal on earth.\n"
     ]
    }
   ],
   "source": [
    "s1 = s.replace('dog', 'CAT')\n",
    "print(s1)"
   ]
  },
  {
   "cell_type": "code",
   "execution_count": 33,
   "metadata": {},
   "outputs": [
    {
     "name": "stdout",
     "output_type": "stream",
     "text": [
      "all CATs are not like cats.\n",
      "all cats are not like dogs.\n",
      "dogs are most loyal animal on earth.\n"
     ]
    }
   ],
   "source": [
    "s1 = s.replace('dog', 'CAT', 1)\n",
    "print(s1)"
   ]
  },
  {
   "cell_type": "code",
   "execution_count": 34,
   "metadata": {},
   "outputs": [
    {
     "name": "stdout",
     "output_type": "stream",
     "text": [
      "all CATs are not like cats.\n",
      "all cats are not like CATs.\n",
      "dogs are most loyal animal on earth.\n"
     ]
    }
   ],
   "source": [
    "s1 = s.replace('dog', 'CAT', 2)\n",
    "print(s1)"
   ]
  },
  {
   "cell_type": "code",
   "execution_count": 35,
   "metadata": {},
   "outputs": [],
   "source": [
    "s = '$$$$$$$$$$$s$$$$$$$$$$$$$$$$$$$$a$$$$c$$$$$h$$$$i$$$$$$n$$$$$$$$$$$$'"
   ]
  },
  {
   "cell_type": "code",
   "execution_count": 36,
   "metadata": {},
   "outputs": [
    {
     "name": "stdout",
     "output_type": "stream",
     "text": [
      "sachin\n"
     ]
    }
   ],
   "source": [
    "s1 = s.replace('$', '')\n",
    "print(s1)"
   ]
  },
  {
   "cell_type": "markdown",
   "metadata": {},
   "source": [
    "#### Formatting "
   ]
  },
  {
   "cell_type": "markdown",
   "metadata": {},
   "source": [
    "    examination form -> template\n",
    "    \n",
    "    "
   ]
  },
  {
   "cell_type": "code",
   "execution_count": 37,
   "metadata": {},
   "outputs": [],
   "source": [
    "s = \"\"\"mr. ________ is here bye filling form for ______ \"\"\""
   ]
  },
  {
   "cell_type": "code",
   "execution_count": 38,
   "metadata": {},
   "outputs": [],
   "source": [
    "s = \"\"\"\n",
    "x = ___\n",
    "y = ___\n",
    "\n",
    "__ + __ = ____\n",
    "\"\"\""
   ]
  },
  {
   "cell_type": "code",
   "execution_count": 39,
   "metadata": {},
   "outputs": [
    {
     "name": "stdout",
     "output_type": "stream",
     "text": [
      "4\n",
      "5\n",
      "x =  4\n",
      "y =  5\n",
      "4 + 5 = 9\n"
     ]
    }
   ],
   "source": [
    "x = int(input())\n",
    "y = int(input())\n",
    "\n",
    "print(\"x = \", x)\n",
    "print(\"y = \", y)\n",
    "print(x, \"+\", y, \"=\", x + y)"
   ]
  },
  {
   "cell_type": "markdown",
   "metadata": {},
   "source": [
    "#### Format\n",
    "\n",
    "    oldest method - \"x = %d\", 5 , %d -> type specifier , d -> int\n",
    "    \n",
    "    str.format\n",
    "    \n",
    "    f\"string\" # f-string"
   ]
  },
  {
   "cell_type": "code",
   "execution_count": 40,
   "metadata": {},
   "outputs": [],
   "source": [
    "s = \"\"\"\n",
    "x = %d\n",
    "y = %d\n",
    "\n",
    "%d + %d = %d\n",
    "\"\"\" # template string"
   ]
  },
  {
   "cell_type": "code",
   "execution_count": 41,
   "metadata": {},
   "outputs": [
    {
     "name": "stdout",
     "output_type": "stream",
     "text": [
      "\n",
      "x = %d\n",
      "y = %d\n",
      "\n",
      "%d + %d = %d\n",
      "\n"
     ]
    }
   ],
   "source": [
    "print(s)"
   ]
  },
  {
   "cell_type": "code",
   "execution_count": 44,
   "metadata": {},
   "outputs": [
    {
     "name": "stdout",
     "output_type": "stream",
     "text": [
      "x: 10\n",
      "y: 90\n",
      "\n",
      "x = 10\n",
      "y = 90\n",
      "10 + 90 = 100\n",
      "\n"
     ]
    }
   ],
   "source": [
    "s = \"\"\"\n",
    "x = %d\n",
    "y = %d\n",
    "%d + %d = %d\n",
    "\"\"\"\n",
    "\n",
    "a = int(input(\"x: \"))\n",
    "b = int(input(\"y: \"))\n",
    "r = a + b\n",
    "\n",
    "s1 = s%(a, b, a, b, r) # formatted string\n",
    "print(s1)"
   ]
  },
  {
   "cell_type": "raw",
   "metadata": {},
   "source": [
    "%d - int\n",
    "\n",
    "%f - float\n",
    "\n",
    "%s - string"
   ]
  },
  {
   "cell_type": "code",
   "execution_count": 48,
   "metadata": {},
   "outputs": [
    {
     "name": "stdout",
     "output_type": "stream",
     "text": [
      "x: 22\n",
      "y: 7\n",
      "\n",
      "x = 22\n",
      "y = 7\n",
      "22 / 7 = 3.14\n",
      "\n"
     ]
    }
   ],
   "source": [
    "s = \"\"\"\n",
    "x = %d\n",
    "y = %d\n",
    "%d / %d = %.2f\n",
    "\"\"\"\n",
    "\n",
    "a = int(input(\"x: \"))\n",
    "b = int(input(\"y: \"))\n",
    "r = a / b\n",
    "\n",
    "s1 = s%(a, b, a, b, r) # formatted string\n",
    "print(s1)"
   ]
  },
  {
   "cell_type": "code",
   "execution_count": 49,
   "metadata": {},
   "outputs": [],
   "source": [
    "s = \"\"\"\n",
    "My name is %20s.\n",
    "I am not a %20s.\n",
    "\"\"\""
   ]
  },
  {
   "cell_type": "code",
   "execution_count": 50,
   "metadata": {},
   "outputs": [],
   "source": [
    "s = \"\"\"\n",
    "My name is %20s.\n",
    "I am not a %20s.\n",
    "\"\"\"\n",
    "s1 = s%(\"Khan\", \"Terrorist\")\n",
    "print(s1)"
   ]
  },
  {
   "cell_type": "code",
   "execution_count": 51,
   "metadata": {},
   "outputs": [
    {
     "name": "stdout",
     "output_type": "stream",
     "text": [
      "\n",
      "My name is                 Khan.\n",
      "I am not a            Terrorist.\n",
      "\n"
     ]
    }
   ],
   "source": [
    "print(s1)"
   ]
  },
  {
   "cell_type": "code",
   "execution_count": 58,
   "metadata": {},
   "outputs": [
    {
     "name": "stdout",
     "output_type": "stream",
     "text": [
      "\n",
      "My name is Khan                .\n",
      "I am not a            Terrorist.\n",
      "\n"
     ]
    }
   ],
   "source": [
    "s = \"\"\"\n",
    "My name is %-20s.\n",
    "I am not a %20s.\n",
    "\"\"\"\n",
    "s1 = s%(\"Khan\", \"Terrorist\")\n",
    "print(s1)"
   ]
  },
  {
   "cell_type": "code",
   "execution_count": 63,
   "metadata": {},
   "outputs": [
    {
     "data": {
      "text/plain": [
       "' 30.123'"
      ]
     },
     "execution_count": 63,
     "metadata": {},
     "output_type": "execute_result"
    }
   ],
   "source": [
    "\"___.__\"\n",
    "\" 30.12\"\n",
    "\" 30.123\""
   ]
  },
  {
   "cell_type": "code",
   "execution_count": 61,
   "metadata": {},
   "outputs": [],
   "source": [
    "s = \"\"\"\n",
    "x = %5.2f\n",
    "y = %6.3f\n",
    "\"\"\"\n",
    "\n",
    "x = y = 30.12345"
   ]
  },
  {
   "cell_type": "code",
   "execution_count": 62,
   "metadata": {},
   "outputs": [
    {
     "name": "stdout",
     "output_type": "stream",
     "text": [
      "\n",
      "x = 30.12\n",
      "y = 30.123\n",
      "\n"
     ]
    }
   ],
   "source": [
    "print(s%(x, y))"
   ]
  },
  {
   "cell_type": "code",
   "execution_count": 82,
   "metadata": {},
   "outputs": [
    {
     "name": "stdout",
     "output_type": "stream",
     "text": [
      "x: 22\n",
      "y: 7\n",
      "\n",
      "x =         22\n",
      "y =          7\n",
      "22 / 7 =  3.14\n",
      "\n"
     ]
    }
   ],
   "source": [
    "s = \"\"\"\n",
    "x = %(x)10d\n",
    "y = %(y)10d\n",
    "%(x)d / %(y)d = %(r)5.2f\n",
    "\"\"\"\n",
    "\n",
    "a = int(input(\"x: \"))\n",
    "b = int(input(\"y: \"))\n",
    "r = a / b\n",
    "\n",
    "s1 = s%({'x':a, 'y': b, 'r': r}) # formatted string\n",
    "print(s1)"
   ]
  },
  {
   "cell_type": "markdown",
   "metadata": {},
   "source": [
    "#### format\n"
   ]
  },
  {
   "cell_type": "code",
   "execution_count": 85,
   "metadata": {},
   "outputs": [],
   "source": [
    "\n",
    "s = \"my name is {} and i am not a {}.\"\n",
    "\n",
    "# {} -> palace holder"
   ]
  },
  {
   "cell_type": "code",
   "execution_count": 84,
   "metadata": {},
   "outputs": [
    {
     "name": "stdout",
     "output_type": "stream",
     "text": [
      "my name is {} and i am not a {}.\n"
     ]
    }
   ],
   "source": [
    "print(s)"
   ]
  },
  {
   "cell_type": "code",
   "execution_count": 86,
   "metadata": {},
   "outputs": [],
   "source": [
    "s1 = s.format(\"Khan\", \"Terrorist\")"
   ]
  },
  {
   "cell_type": "code",
   "execution_count": 87,
   "metadata": {},
   "outputs": [
    {
     "name": "stdout",
     "output_type": "stream",
     "text": [
      "my name is Khan and i am not a Terrorist.\n"
     ]
    }
   ],
   "source": [
    "print(s1)"
   ]
  },
  {
   "cell_type": "code",
   "execution_count": 88,
   "metadata": {},
   "outputs": [],
   "source": [
    "s = \"\"\"\n",
    "x = {}\n",
    "y = {}\n",
    "{} + {} = {}\n",
    "\"\"\""
   ]
  },
  {
   "cell_type": "code",
   "execution_count": 89,
   "metadata": {},
   "outputs": [
    {
     "name": "stdout",
     "output_type": "stream",
     "text": [
      "\n",
      "x = 22\n",
      "y = 7\n",
      "22 + 7 = 29\n",
      "\n"
     ]
    }
   ],
   "source": [
    "x = 22\n",
    "y = 7\n",
    "r = x + y\n",
    "\n",
    "s1 = s.format(x, y, x, y, r)\n",
    "\n",
    "print(s1)"
   ]
  },
  {
   "cell_type": "markdown",
   "metadata": {},
   "source": [
    "`positional formatting`"
   ]
  },
  {
   "cell_type": "code",
   "execution_count": 91,
   "metadata": {},
   "outputs": [
    {
     "name": "stdout",
     "output_type": "stream",
     "text": [
      "\n",
      "x = 22\n",
      "y = 7\n",
      "22 + 7 = 29\n",
      "\n"
     ]
    }
   ],
   "source": [
    "s = \"\"\"\n",
    "x = {0}\n",
    "y = {1}\n",
    "{2} + {3} = {4}\n",
    "\"\"\"\n",
    "\n",
    "x = 22\n",
    "y = 7\n",
    "r = x + y\n",
    "print(s.format(x, y, x, y, r))\n",
    "#              0, 1, 2, 3, 4"
   ]
  },
  {
   "cell_type": "code",
   "execution_count": 95,
   "metadata": {},
   "outputs": [
    {
     "name": "stdout",
     "output_type": "stream",
     "text": [
      "\n",
      "x = 22\n",
      "y = 7\n",
      "22 / 7 = 3.14\n",
      "\n"
     ]
    }
   ],
   "source": [
    "s = \"\"\"\n",
    "x = {0}\n",
    "y = {1}\n",
    "{0} / {1} = {2:.2f}\n",
    "\"\"\"\n",
    "\n",
    "x = 22\n",
    "y = 7\n",
    "r = x / y\n",
    "print(s.format(x, y, r))\n",
    "#              0, 1, 2"
   ]
  },
  {
   "cell_type": "markdown",
   "metadata": {},
   "source": [
    "`keyword formatting`"
   ]
  },
  {
   "cell_type": "code",
   "execution_count": 97,
   "metadata": {},
   "outputs": [
    {
     "name": "stdout",
     "output_type": "stream",
     "text": [
      "\n",
      "x = 10\n",
      "y = 50\n",
      "10 / 50 = 3.14\n",
      "\n"
     ]
    }
   ],
   "source": [
    "s = \"\"\"\n",
    "x = {a}\n",
    "y = {b}\n",
    "{a} / {b} = {c:.2f}\n",
    "\"\"\"\n",
    "\n",
    "x = 22\n",
    "y = 7\n",
    "r = x / y\n",
    "print(s.format(a=x, b=y, c=r))\n",
    "#              0, 1, 2"
   ]
  },
  {
   "cell_type": "markdown",
   "metadata": {},
   "source": [
    "    < - left\n",
    "    ^ - center\n",
    "    > - right"
   ]
  },
  {
   "cell_type": "code",
   "execution_count": 101,
   "metadata": {},
   "outputs": [
    {
     "name": "stdout",
     "output_type": "stream",
     "text": [
      "\n",
      "My name is Khan                . \tLeft   Justfication\n",
      "I am not a            Terrorist. \tRight  Justification\n",
      "Python is        Awesome         \tCenter Justification\n",
      "\n"
     ]
    }
   ],
   "source": [
    "s = \"\"\"\n",
    "My name is {:<20}. \\tLeft   Justfication\n",
    "I am not a {:>20}. \\tRight  Justification\n",
    "Python is  {:^20}  \\tCenter Justification\n",
    "\"\"\"\n",
    "s1 = s.format(\"Khan\", \"Terrorist\", \"Awesome\")\n",
    "print(s1)"
   ]
  },
  {
   "cell_type": "code",
   "execution_count": 103,
   "metadata": {},
   "outputs": [
    {
     "name": "stdout",
     "output_type": "stream",
     "text": [
      "\n",
      "My name is Khan                . \tLeft   Justfication\n",
      "I am not a            Terrorist. \tRight  Justification\n",
      "Python is        Awesome         \tCenter Justification\n",
      "\n"
     ]
    }
   ],
   "source": [
    "s = \"\"\"\n",
    "My name is {a:<20}. \\tLeft   Justfication\n",
    "I am not a {b:>20}. \\tRight  Justification\n",
    "Python is  {c:^20}  \\tCenter Justification\n",
    "\"\"\"\n",
    "s1 = s.format(a=\"Khan\", b=\"Terrorist\", c=\"Awesome\")\n",
    "print(s1)"
   ]
  },
  {
   "cell_type": "code",
   "execution_count": 117,
   "metadata": {},
   "outputs": [
    {
     "name": "stdout",
     "output_type": "stream",
     "text": [
      "\n",
      "Decimal      Value of   12345 is 12345.\n",
      "Binary       Value of   12345 is 11000000111001.\n",
      "Hexa Decimal Value of   12345 is 3039.\n",
      "octal        Value of   12345 is 30071.\n",
      "float        Value of   12345 is 12345.000000.\n",
      "\n"
     ]
    }
   ],
   "source": [
    "s = 12345\n",
    "\n",
    "s = \"\"\"\n",
    "Decimal      Value of   {num} is {num}.\n",
    "Binary       Value of   {num} is {num:b}.\n",
    "Hexa Decimal Value of   {num} is {num:x}.\n",
    "octal        Value of   {num} is {num:o}.\n",
    "float        Value of   {num} is {num:f}.\n",
    "\"\"\".format(num=s)\n",
    "print(s)"
   ]
  },
  {
   "cell_type": "code",
   "execution_count": 123,
   "metadata": {},
   "outputs": [
    {
     "name": "stdout",
     "output_type": "stream",
     "text": [
      "\n",
      "Decimal      Value of   12345                is                12345.\n",
      "Binary       Value of   12345                is       11000000111001.\n",
      "Hexa Decimal Value of   12345                is                 3039.\n",
      "octal        Value of   12345                is                30071.\n",
      "float        Value of   12345                is         12345.000000.\n",
      "\n"
     ]
    }
   ],
   "source": [
    "x = 12345\n",
    "\n",
    "s = \"\"\"\n",
    "Decimal      Value of   {num:<20} is {num:>20}.\n",
    "Binary       Value of   {num:<20} is {num:>20b}.\n",
    "Hexa Decimal Value of   {num:<20} is {num:>20x}.\n",
    "octal        Value of   {num:<20} is {num:>20o}.\n",
    "float        Value of   {num:<20} is {num:20f}.\n",
    "\"\"\"\n",
    "\n",
    "\n",
    "print(s.format(num=x))"
   ]
  },
  {
   "cell_type": "code",
   "execution_count": 121,
   "metadata": {},
   "outputs": [
    {
     "name": "stdout",
     "output_type": "stream",
     "text": [
      "                                            Sachin Yadav                                            \n"
     ]
    }
   ],
   "source": [
    "s = \"{:^100}\".format('Sachin Yadav')\n",
    "print(s)"
   ]
  },
  {
   "cell_type": "markdown",
   "metadata": {},
   "source": [
    "#### F-String\n",
    "\n",
    "    it is only works on python version >= 3.6"
   ]
  },
  {
   "cell_type": "code",
   "execution_count": 124,
   "metadata": {},
   "outputs": [
    {
     "name": "stdout",
     "output_type": "stream",
     "text": [
      "x: 22\n",
      "y: 7\n",
      "\n",
      "a = 22\n",
      "b = 7\n",
      "22 + 7 = 3.14\n",
      "\n"
     ]
    }
   ],
   "source": [
    "a = int(input(\"x: \"))\n",
    "b = int(input(\"y: \"))\n",
    "\n",
    "s = f\"\"\"\n",
    "a = {a}\n",
    "b = {b}\n",
    "{a} + {b} = {a/b:.2f}\n",
    "\"\"\"\n",
    "\n",
    "print(s)"
   ]
  },
  {
   "cell_type": "code",
   "execution_count": 126,
   "metadata": {},
   "outputs": [
    {
     "name": "stdout",
     "output_type": "stream",
     "text": [
      "Enter your name: Sachin\n",
      "Hello, user        Sachin        welcome to Python Programming.\n"
     ]
    }
   ],
   "source": [
    "name = input(\"Enter your name: \")\n",
    "\n",
    "\n",
    "print(f\"Hello, user {name:^20} welcome to Python Programming.\")"
   ]
  },
  {
   "cell_type": "code",
   "execution_count": 127,
   "metadata": {},
   "outputs": [
    {
     "name": "stdout",
     "output_type": "stream",
     "text": [
      "Capitalized version of hello world! is Hello world!.\n"
     ]
    }
   ],
   "source": [
    "s = \"hello world!\"\n",
    "cs = s.capitalize()\n",
    "\n",
    "print(f\"Capitalized version of {s} is {cs}.\") # f-string"
   ]
  },
  {
   "cell_type": "code",
   "execution_count": 128,
   "metadata": {},
   "outputs": [],
   "source": [
    "del x"
   ]
  },
  {
   "cell_type": "code",
   "execution_count": 129,
   "metadata": {},
   "outputs": [
    {
     "ename": "NameError",
     "evalue": "name 'x' is not defined",
     "output_type": "error",
     "traceback": [
      "\u001b[1;31m---------------------------------------------------------------------------\u001b[0m",
      "\u001b[1;31mNameError\u001b[0m                                 Traceback (most recent call last)",
      "\u001b[1;32m<ipython-input-129-96407bab2d30>\u001b[0m in \u001b[0;36m<module>\u001b[1;34m\u001b[0m\n\u001b[1;32m----> 1\u001b[1;33m \u001b[0ms\u001b[0m \u001b[1;33m=\u001b[0m \u001b[1;34mf\"some variable {x}\"\u001b[0m\u001b[1;33m\u001b[0m\u001b[1;33m\u001b[0m\u001b[0m\n\u001b[0m\u001b[0;32m      2\u001b[0m \u001b[1;33m\u001b[0m\u001b[0m\n\u001b[0;32m      3\u001b[0m \u001b[0mx\u001b[0m \u001b[1;33m=\u001b[0m \u001b[1;36m20\u001b[0m\u001b[1;33m\u001b[0m\u001b[1;33m\u001b[0m\u001b[0m\n",
      "\u001b[1;31mNameError\u001b[0m: name 'x' is not defined"
     ]
    }
   ],
   "source": [
    "s = f\"some variable {x}\"\n",
    "\n",
    "x = 20\n"
   ]
  },
  {
   "cell_type": "code",
   "execution_count": 130,
   "metadata": {},
   "outputs": [
    {
     "data": {
      "text/plain": [
       "True"
      ]
     },
     "execution_count": 130,
     "metadata": {},
     "output_type": "execute_result"
    }
   ],
   "source": [
    "\"aldkjfldsjfsf\".isalpha()"
   ]
  },
  {
   "cell_type": "code",
   "execution_count": 132,
   "metadata": {},
   "outputs": [
    {
     "data": {
      "text/plain": [
       "False"
      ]
     },
     "execution_count": 132,
     "metadata": {},
     "output_type": "execute_result"
    }
   ],
   "source": [
    "\"aldkjfldsjfsf$\".isalpha() # a-zA-Z"
   ]
  },
  {
   "cell_type": "code",
   "execution_count": 133,
   "metadata": {},
   "outputs": [
    {
     "data": {
      "text/plain": [
       "True"
      ]
     },
     "execution_count": 133,
     "metadata": {},
     "output_type": "execute_result"
    }
   ],
   "source": [
    "\"827364832684638724\".isnumeric()"
   ]
  },
  {
   "cell_type": "code",
   "execution_count": 134,
   "metadata": {},
   "outputs": [
    {
     "data": {
      "text/plain": [
       "False"
      ]
     },
     "execution_count": 134,
     "metadata": {},
     "output_type": "execute_result"
    }
   ],
   "source": [
    "\"298343274 29384789374\".isnumeric()"
   ]
  },
  {
   "cell_type": "code",
   "execution_count": 135,
   "metadata": {},
   "outputs": [
    {
     "data": {
      "text/plain": [
       "True"
      ]
     },
     "execution_count": 135,
     "metadata": {},
     "output_type": "execute_result"
    }
   ],
   "source": [
    "\"             \\n\\n \\t\\t\\t\\t \\n    \".isspace()"
   ]
  },
  {
   "cell_type": "raw",
   "metadata": {},
   "source": [
    "str.is<TAB>"
   ]
  },
  {
   "cell_type": "code",
   "execution_count": null,
   "metadata": {},
   "outputs": [],
   "source": [
    "str.is"
   ]
  },
  {
   "cell_type": "code",
   "execution_count": 139,
   "metadata": {},
   "outputs": [
    {
     "name": "stdout",
     "output_type": "stream",
     "text": [
      "sdklfjkdsfj\n",
      "Invalid Input\n"
     ]
    }
   ],
   "source": [
    "s = input()\n",
    "\n",
    "if s.isnumeric():\n",
    "    s = int(s)\n",
    "else:\n",
    "    print(\"Invalid Input\")"
   ]
  },
  {
   "cell_type": "code",
   "execution_count": 137,
   "metadata": {},
   "outputs": [
    {
     "name": "stdout",
     "output_type": "stream",
     "text": [
      "1234 235\n"
     ]
    },
    {
     "ename": "ValueError",
     "evalue": "invalid literal for int() with base 10: '1234 235'",
     "output_type": "error",
     "traceback": [
      "\u001b[1;31m---------------------------------------------------------------------------\u001b[0m",
      "\u001b[1;31mValueError\u001b[0m                                Traceback (most recent call last)",
      "\u001b[1;32m<ipython-input-137-2ad52a4b3ef5>\u001b[0m in \u001b[0;36m<module>\u001b[1;34m\u001b[0m\n\u001b[1;32m----> 1\u001b[1;33m \u001b[0mint\u001b[0m\u001b[1;33m(\u001b[0m\u001b[0minput\u001b[0m\u001b[1;33m(\u001b[0m\u001b[1;33m)\u001b[0m\u001b[1;33m)\u001b[0m\u001b[1;33m\u001b[0m\u001b[1;33m\u001b[0m\u001b[0m\n\u001b[0m",
      "\u001b[1;31mValueError\u001b[0m: invalid literal for int() with base 10: '1234 235'"
     ]
    }
   ],
   "source": [
    "int(input())"
   ]
  },
  {
   "cell_type": "markdown",
   "metadata": {},
   "source": [
    "**LIST**"
   ]
  },
  {
   "cell_type": "markdown",
   "metadata": {},
   "source": [
    "    {:x}"
   ]
  },
  {
   "cell_type": "code",
   "execution_count": null,
   "metadata": {},
   "outputs": [],
   "source": []
  }
 ],
 "metadata": {
  "kernelspec": {
   "display_name": "Python 3",
   "language": "python",
   "name": "python3"
  },
  "language_info": {
   "codemirror_mode": {
    "name": "ipython",
    "version": 3
   },
   "file_extension": ".py",
   "mimetype": "text/x-python",
   "name": "python",
   "nbconvert_exporter": "python",
   "pygments_lexer": "ipython3",
   "version": "3.8.3"
  }
 },
 "nbformat": 4,
 "nbformat_minor": 4
}
