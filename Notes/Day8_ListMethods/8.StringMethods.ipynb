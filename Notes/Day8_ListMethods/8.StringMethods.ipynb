{
 "cells": [
  {
   "cell_type": "markdown",
   "metadata": {},
   "source": [
    "## String Methods"
   ]
  },
  {
   "cell_type": "code",
   "execution_count": 7,
   "metadata": {},
   "outputs": [
    {
     "name": "stdout",
     "output_type": "stream",
     "text": [
      "hello\n"
     ]
    }
   ],
   "source": [
    "print(\"hello\")"
   ]
  },
  {
   "cell_type": "code",
   "execution_count": 1,
   "metadata": {},
   "outputs": [],
   "source": [
    "def methods(dtype):\n",
    "    print(*[function for function in dir(dtype) if function[0].islower() ])"
   ]
  },
  {
   "cell_type": "code",
   "execution_count": 2,
   "metadata": {},
   "outputs": [],
   "source": [
    "s = \"Hello\""
   ]
  },
  {
   "cell_type": "code",
   "execution_count": 6,
   "metadata": {},
   "outputs": [
    {
     "name": "stdout",
     "output_type": "stream",
     "text": [
      "Hello\n",
      "2981618514416\n",
      "['__add__', '__class__', '__contains__', '__delattr__', '__dir__', '__doc__', '__eq__', '__format__', '__ge__', '__getattribute__', '__getitem__', '__getnewargs__', '__gt__', '__hash__', '__init__', '__init_subclass__', '__iter__', '__le__', '__len__', '__lt__', '__mod__', '__mul__', '__ne__', '__new__', '__reduce__', '__reduce_ex__', '__repr__', '__rmod__', '__rmul__', '__setattr__', '__sizeof__', '__str__', '__subclasshook__', 'capitalize', 'casefold', 'center', 'count', 'encode', 'endswith', 'expandtabs', 'find', 'format', 'format_map', 'index', 'isalnum', 'isalpha', 'isascii', 'isdecimal', 'isdigit', 'isidentifier', 'islower', 'isnumeric', 'isprintable', 'isspace', 'istitle', 'isupper', 'join', 'ljust', 'lower', 'lstrip', 'maketrans', 'partition', 'replace', 'rfind', 'rindex', 'rjust', 'rpartition', 'rsplit', 'rstrip', 'split', 'splitlines', 'startswith', 'strip', 'swapcase', 'title', 'translate', 'upper', 'zfill']\n",
      "Help on built-in function join:\n",
      "\n",
      "join(iterable, /) method of builtins.str instance\n",
      "    Concatenate any number of strings.\n",
      "    \n",
      "    The string whose method is called is inserted in between each given string.\n",
      "    The result is returned as a new string.\n",
      "    \n",
      "    Example: '.'.join(['ab', 'pq', 'rs']) -> 'ab.pq.rs'\n",
      "\n"
     ]
    }
   ],
   "source": [
    "print(s)\n",
    "print(id(s))\n",
    "print(dir(s))\n",
    "help(s.join)"
   ]
  },
  {
   "cell_type": "code",
   "execution_count": 8,
   "metadata": {},
   "outputs": [
    {
     "name": "stdout",
     "output_type": "stream",
     "text": [
      "capitalize casefold center count encode endswith expandtabs find format format_map index isalnum isalpha isascii isdecimal isdigit isidentifier islower isnumeric isprintable isspace istitle isupper join ljust lower lstrip maketrans partition replace rfind rindex rjust rpartition rsplit rstrip split splitlines startswith strip swapcase title translate upper zfill\n"
     ]
    }
   ],
   "source": [
    "methods(str)"
   ]
  },
  {
   "cell_type": "code",
   "execution_count": 10,
   "metadata": {},
   "outputs": [
    {
     "name": "stdout",
     "output_type": "stream",
     "text": [
      "Help on built-in function split:\n",
      "\n",
      "split(sep=None, maxsplit=-1) method of builtins.str instance\n",
      "    Return a list of the words in the string, using sep as the delimiter string.\n",
      "    \n",
      "    sep\n",
      "      The delimiter according which to split the string.\n",
      "      None (the default value) means split according to any whitespace,\n",
      "      and discard empty strings from the result.\n",
      "    maxsplit\n",
      "      Maximum number of splits to do.\n",
      "      -1 (the default value) means no limit.\n",
      "\n"
     ]
    }
   ],
   "source": [
    "s = \"Hello\"\n",
    "help(s.split)"
   ]
  },
  {
   "cell_type": "code",
   "execution_count": 11,
   "metadata": {},
   "outputs": [
    {
     "name": "stdout",
     "output_type": "stream",
     "text": [
      "Hello\n"
     ]
    }
   ],
   "source": [
    "print(s)"
   ]
  },
  {
   "cell_type": "markdown",
   "metadata": {},
   "source": [
    "### String\n",
    "\n",
    "    immutable - we can not change"
   ]
  },
  {
   "cell_type": "code",
   "execution_count": 15,
   "metadata": {},
   "outputs": [
    {
     "name": "stdout",
     "output_type": "stream",
     "text": [
      "Hello World! 2981651646960\n",
      "HELLO WORLD! 2981650961648\n",
      "Hello World! 2981651646960\n"
     ]
    }
   ],
   "source": [
    "s = \"Hello World!\"\n",
    "k = s\n",
    "print(s, id(s))\n",
    "s = s.upper()\n",
    "print(s, id(s))\n",
    "print(k, id(k))"
   ]
  },
  {
   "cell_type": "markdown",
   "metadata": {},
   "source": [
    "##### Methods Related to Case of String\n",
    "\n",
    "    str.lower() - it will all characters to lowercase character and return a new string\n",
    "    str.upper() - it will all characters to uppercase character and return a new string\n",
    "    str.swapcase() - lowercase -> uppercase, uppercase -> lowercase\n",
    "    str.title() - Every Word in string will have first character uppercase rest as lower case\n",
    "    str.capitalize()- First Word in string will have first character uppercase rest as lower case"
   ]
  },
  {
   "cell_type": "code",
   "execution_count": 21,
   "metadata": {},
   "outputs": [
    {
     "name": "stdout",
     "output_type": "stream",
     "text": [
      "Original   :  'HelLO WoRlD! PyTHON is AwEsOME'\n",
      "Lower      :  'hello world! python is awesome'\n",
      "Upper      :  'HELLO WORLD! PYTHON IS AWESOME'\n",
      "Swapcase   :  'hELlo wOrLd! pYthon IS aWeSome'\n",
      "Title      :  'Hello World! Python Is Awesome'\n",
      "Capitalize :  'Hello world! python is awesome'\n"
     ]
    }
   ],
   "source": [
    "s = \"HelLO WoRlD! PyTHON is AwEsOME\"\n",
    "lc = s.lower()\n",
    "uc = s.upper()\n",
    "sc = s.swapcase()\n",
    "tc = s.title()\n",
    "cc = s.capitalize()\n",
    "print(\"Original   : \", repr(s))\n",
    "print(\"Lower      : \", repr(lc))\n",
    "print(\"Upper      : \", repr(uc))\n",
    "print(\"Swapcase   : \", repr(sc))\n",
    "print(\"Title      : \", repr(tc))\n",
    "print(\"Capitalize : \", repr(cc))"
   ]
  },
  {
   "cell_type": "markdown",
   "metadata": {},
   "source": [
    "#### Justificaiton Methods \n",
    "\n",
    "    str.ljust(width, fillchar=' ') - put content in left side and fill width length string with fill char\n",
    "    str.rjust(width, fillchar=' ')\n",
    "    str.center(width, fillchar=' ')\n",
    "    str.zfill(width)"
   ]
  },
  {
   "cell_type": "code",
   "execution_count": 22,
   "metadata": {},
   "outputs": [
    {
     "name": "stdout",
     "output_type": "stream",
     "text": [
      "Original   :  'Sachin'\n",
      "Left Just  :  'Sachin          '\n",
      "Right Just :  '          Sachin'\n",
      "Center     :  '     Sachin     '\n",
      "Zero Fill  :  '0000000000Sachin'\n"
     ]
    }
   ],
   "source": [
    "s = \"Sachin\"\n",
    "\n",
    "s1 = s.ljust(16)\n",
    "s2 = s.rjust(16)\n",
    "s3 = s.center(16)\n",
    "s4 = s.zfill(16)\n",
    "\n",
    "print(\"Original   : \", repr(s))\n",
    "print(\"Left Just  : \", repr(s1))\n",
    "print(\"Right Just : \", repr(s2))\n",
    "print(\"Center     : \", repr(s3))\n",
    "print(\"Zero Fill  : \", repr(s4))"
   ]
  },
  {
   "cell_type": "code",
   "execution_count": 24,
   "metadata": {},
   "outputs": [
    {
     "name": "stdout",
     "output_type": "stream",
     "text": [
      "Original   :  'Sachin'\n",
      "Left Just  :  'Sachin**********'\n",
      "Right Just :  '__________Sachin'\n",
      "Center     :  '-----Sachin-----'\n",
      "Zero Fill  :  '0000000000Sachin'\n"
     ]
    }
   ],
   "source": [
    "s = \"Sachin\"\n",
    "\n",
    "s1 = s.ljust(16, '*')\n",
    "s2 = s.rjust(16, '_')\n",
    "s3 = s.center(16, '-')\n",
    "s4 = s.zfill(16)\n",
    "\n",
    "print(\"Original   : \", repr(s))\n",
    "print(\"Left Just  : \", repr(s1))\n",
    "print(\"Right Just : \", repr(s2))\n",
    "print(\"Center     : \", repr(s3))\n",
    "print(\"Zero Fill  : \", repr(s4))"
   ]
  },
  {
   "cell_type": "code",
   "execution_count": 29,
   "metadata": {},
   "outputs": [
    {
     "name": "stdout",
     "output_type": "stream",
     "text": [
      "_________________________________________________________________________________________________________________________________________________________________________________________________________________________________________________________________________________________________________________________________________________________________________________________________________________________________________________________________________________________________________________________________________________________Sachin_________________________________________________________________________________________________________________________________________________________________________________________________________________________________________________________________________________________________________________________________________________________________________________________________________________________________________________________________________________________________________________________________________________________\n"
     ]
    }
   ],
   "source": [
    "print(\"Sachin\".center(1080, '_')) # Screen size"
   ]
  },
  {
   "cell_type": "markdown",
   "metadata": {},
   "source": [
    "#### Trim / Strip Methods\n",
    "    \n",
    "    \n",
    "    str.lstrip(chars=\" \\t\\n\") - it will search and delete all leading chars from a string\n",
    "    str.rstrip(chars=\" \\t\\n\") - it will search and delete all trailing chars from a string\n",
    "    str.strip(chars=\" \\t\\n\")  - it will search and delete all leading & trailing chars from a string\n",
    "    \n",
    "    "
   ]
  },
  {
   "cell_type": "code",
   "execution_count": 36,
   "metadata": {},
   "outputs": [
    {
     "name": "stdout",
     "output_type": "stream",
     "text": [
      "Original:  '     \\t\\n\\n   \\n    Hello World!   \\n      \\t\\t          '\n",
      "Strip  :  'Hello World!'\n",
      "lstrip  :  'Hello World!   \\n      \\t\\t          '\n",
      "rstrip  :  '     \\t\\n\\n   \\n    Hello World!'\n"
     ]
    }
   ],
   "source": [
    "s = \"     \\t\\n\\n   \\n    Hello World!   \\n      \\t\\t          \"\n",
    "print(\"Original: \", repr(s))\n",
    "\n",
    "ss = s.strip()\n",
    "\n",
    "print(\"Strip  : \",  repr(ss))\n",
    "s1 = s.lstrip()\n",
    "print(\"lstrip  : \", repr(s1))\n",
    "s2 = s.rstrip()\n",
    "print(\"rstrip  : \", repr(s2))"
   ]
  },
  {
   "cell_type": "code",
   "execution_count": 37,
   "metadata": {},
   "outputs": [],
   "source": [
    "s = \"      \\n\\thello world\\t\\n       \""
   ]
  },
  {
   "cell_type": "code",
   "execution_count": 40,
   "metadata": {},
   "outputs": [
    {
     "name": "stdout",
     "output_type": "stream",
     "text": [
      "'      \\n\\thello world\\t\\n       '\n",
      "'hello world'\n",
      "'\\n\\thello world\\t\\n'\n"
     ]
    }
   ],
   "source": [
    "print(repr(s))\n",
    "s1 = s.strip()\n",
    "print(repr(s1))\n",
    "s2 = s.strip(' ')\n",
    "print(repr(s2))"
   ]
  },
  {
   "cell_type": "code",
   "execution_count": 45,
   "metadata": {},
   "outputs": [],
   "source": [
    "s = \"! @#$%^&^%$#@~#$%^%^$#Sachin #$% Yadav@#$%^&%^$#@#$%^&*@# $\""
   ]
  },
  {
   "cell_type": "code",
   "execution_count": 49,
   "metadata": {},
   "outputs": [
    {
     "name": "stdout",
     "output_type": "stream",
     "text": [
      "'! @#$%^&^%$#@~#$%^%^$#Sachin #$% Yadav@#$%^&%^$#@#$%^&*@# $'\n",
      "'Sachin #$% Yadav'\n"
     ]
    }
   ],
   "source": [
    "print(repr(s))\n",
    "s1 = s.strip(\"~!@#$%^&*()_+ \")\n",
    "print(repr(s1))"
   ]
  },
  {
   "cell_type": "code",
   "execution_count": 51,
   "metadata": {},
   "outputs": [],
   "source": [
    "s = \"india is a great country.\""
   ]
  },
  {
   "cell_type": "code",
   "execution_count": 52,
   "metadata": {},
   "outputs": [
    {
     "name": "stdout",
     "output_type": "stream",
     "text": [
      "india is a great country.\n"
     ]
    }
   ],
   "source": [
    "print(s)"
   ]
  },
  {
   "cell_type": "code",
   "execution_count": 53,
   "metadata": {},
   "outputs": [],
   "source": [
    "s1 = s.strip('india')"
   ]
  },
  {
   "cell_type": "code",
   "execution_count": 54,
   "metadata": {},
   "outputs": [
    {
     "name": "stdout",
     "output_type": "stream",
     "text": [
      " is a great country.\n"
     ]
    }
   ],
   "source": [
    "print(s1)"
   ]
  },
  {
   "cell_type": "markdown",
   "metadata": {},
   "source": [
    "#### Split & Join "
   ]
  },
  {
   "cell_type": "code",
   "execution_count": 107,
   "metadata": {},
   "outputs": [
    {
     "name": "stdout",
     "output_type": "stream",
     "text": [
      "She said, \"He is smart.\"\n"
     ]
    }
   ],
   "source": [
    "s = 'She said, \"He is smart.\"'\n",
    "print(s)"
   ]
  },
  {
   "cell_type": "code",
   "execution_count": 108,
   "metadata": {},
   "outputs": [
    {
     "name": "stdout",
     "output_type": "stream",
     "text": [
      "that's my girl\n"
     ]
    }
   ],
   "source": [
    "s = \"that's my girl\"\n",
    "print(s)"
   ]
  },
  {
   "cell_type": "markdown",
   "metadata": {},
   "source": [
    "### Data Types -> Content "
   ]
  },
  {
   "cell_type": "code",
   "execution_count": 62,
   "metadata": {},
   "outputs": [],
   "source": [
    "s = \"Hello World how are you ?\\n\\t\\t\\tlet's\\t\\tsee\\n\\nwhat\\n\\nhappens\""
   ]
  },
  {
   "cell_type": "code",
   "execution_count": 63,
   "metadata": {},
   "outputs": [],
   "source": [
    "words = s.split() # ' \\n\\t'"
   ]
  },
  {
   "cell_type": "code",
   "execution_count": 64,
   "metadata": {},
   "outputs": [
    {
     "name": "stdout",
     "output_type": "stream",
     "text": [
      "['Hello', 'World', 'how', 'are', 'you', '?', \"let's\", 'see', 'what', 'happens']\n"
     ]
    }
   ],
   "source": [
    "print(words)"
   ]
  },
  {
   "cell_type": "code",
   "execution_count": 65,
   "metadata": {},
   "outputs": [],
   "source": [
    "s = \"in general to extracts all words in a list from a string use split function.\""
   ]
  },
  {
   "cell_type": "code",
   "execution_count": 66,
   "metadata": {},
   "outputs": [],
   "source": [
    "words = s.split()"
   ]
  },
  {
   "cell_type": "code",
   "execution_count": 67,
   "metadata": {},
   "outputs": [
    {
     "name": "stdout",
     "output_type": "stream",
     "text": [
      "['in', 'general', 'to', 'extracts', 'all', 'words', 'in', 'a', 'list', 'from', 'a', 'string', 'use', 'split', 'function.']\n"
     ]
    }
   ],
   "source": [
    "print(words)"
   ]
  },
  {
   "cell_type": "code",
   "execution_count": 68,
   "metadata": {},
   "outputs": [],
   "source": [
    "s = \"hello-world-how-are-you-?\""
   ]
  },
  {
   "cell_type": "code",
   "execution_count": 69,
   "metadata": {},
   "outputs": [
    {
     "name": "stdout",
     "output_type": "stream",
     "text": [
      "['hello', 'world', 'how', 'are', 'you', '?']\n"
     ]
    }
   ],
   "source": [
    "s1 = s.split('-')\n",
    "print(s1)"
   ]
  },
  {
   "cell_type": "code",
   "execution_count": 74,
   "metadata": {},
   "outputs": [],
   "source": [
    "s = \"hello how hi ha ha hee heee\""
   ]
  },
  {
   "cell_type": "code",
   "execution_count": 85,
   "metadata": {},
   "outputs": [],
   "source": [
    "words = s.split('h')"
   ]
  },
  {
   "cell_type": "code",
   "execution_count": 86,
   "metadata": {},
   "outputs": [
    {
     "name": "stdout",
     "output_type": "stream",
     "text": [
      "['', 'ello ', 'ow ', 'i ', 'a ', 'a ', 'ee ', 'eee']\n"
     ]
    }
   ],
   "source": [
    "print(words)"
   ]
  },
  {
   "cell_type": "code",
   "execution_count": 89,
   "metadata": {},
   "outputs": [],
   "source": [
    "words =  [ 'this', 'is', 'a', 'word', 'list.', 'Can', 'you', 'make', 'it', 'a', 'proper', \n",
    "         'string', '?']"
   ]
  },
  {
   "cell_type": "code",
   "execution_count": 90,
   "metadata": {},
   "outputs": [
    {
     "name": "stdout",
     "output_type": "stream",
     "text": [
      "['this', 'is', 'a', 'word', 'list.', 'Can', 'you', 'make', 'it', 'a', 'proper', 'string', '?']\n"
     ]
    }
   ],
   "source": [
    "print(words)"
   ]
  },
  {
   "cell_type": "code",
   "execution_count": 91,
   "metadata": {},
   "outputs": [],
   "source": [
    "string = \" \".join(words)"
   ]
  },
  {
   "cell_type": "code",
   "execution_count": 93,
   "metadata": {},
   "outputs": [
    {
     "name": "stdout",
     "output_type": "stream",
     "text": [
      "'this is a word list. Can you make it a proper string ?'\n"
     ]
    }
   ],
   "source": [
    "print(repr(string))"
   ]
  },
  {
   "cell_type": "code",
   "execution_count": 94,
   "metadata": {},
   "outputs": [],
   "source": [
    "s = \"hello-world-how-are-you-?\""
   ]
  },
  {
   "cell_type": "code",
   "execution_count": 96,
   "metadata": {},
   "outputs": [
    {
     "name": "stdout",
     "output_type": "stream",
     "text": [
      "'hello world how are you ?'\n"
     ]
    }
   ],
   "source": [
    "s1 = \" \".join( s.split('-')  )\n",
    "#     \" \".join([ \"hello\", \"world\", \"how\", 'are', 'you', '?'] )\n",
    "# \"hello world how are you ?\"\n",
    "print(repr(s1))"
   ]
  },
  {
   "cell_type": "markdown",
   "metadata": {},
   "source": [
    "#### Any Doubt ? "
   ]
  },
  {
   "cell_type": "code",
   "execution_count": 97,
   "metadata": {},
   "outputs": [],
   "source": [
    "words = [ 'a', 'p', 'p', 'l', 'e', 's']"
   ]
  },
  {
   "cell_type": "code",
   "execution_count": 98,
   "metadata": {},
   "outputs": [],
   "source": [
    "s = \"\".join(words)"
   ]
  },
  {
   "cell_type": "code",
   "execution_count": 99,
   "metadata": {},
   "outputs": [
    {
     "name": "stdout",
     "output_type": "stream",
     "text": [
      "apples\n"
     ]
    }
   ],
   "source": [
    "print(s)"
   ]
  },
  {
   "cell_type": "code",
   "execution_count": 100,
   "metadata": {},
   "outputs": [
    {
     "name": "stdout",
     "output_type": "stream",
     "text": [
      "a.p.p.l.e.s\n"
     ]
    }
   ],
   "source": [
    "s = \".\".join(words)\n",
    "print(s)"
   ]
  },
  {
   "cell_type": "code",
   "execution_count": 105,
   "metadata": {},
   "outputs": [],
   "source": [
    "s = \"|<--^-->|\".join(words)"
   ]
  },
  {
   "cell_type": "code",
   "execution_count": 106,
   "metadata": {},
   "outputs": [
    {
     "name": "stdout",
     "output_type": "stream",
     "text": [
      "a|<--^-->|p|<--^-->|p|<--^-->|l|<--^-->|e|<--^-->|s\n"
     ]
    }
   ],
   "source": [
    "print(s)"
   ]
  },
  {
   "cell_type": "markdown",
   "metadata": {},
   "source": [
    "#### Strings Methods\n",
    "\n",
    "    find & replace\n",
    "    \n",
    "    validation methods - islower, isupper, ...\n",
    "    \n",
    "    formatting \n",
    "    \n",
    "    "
   ]
  },
  {
   "cell_type": "code",
   "execution_count": null,
   "metadata": {},
   "outputs": [],
   "source": []
  }
 ],
 "metadata": {
  "kernelspec": {
   "display_name": "Python 3",
   "language": "python",
   "name": "python3"
  },
  "language_info": {
   "codemirror_mode": {
    "name": "ipython",
    "version": 3
   },
   "file_extension": ".py",
   "mimetype": "text/x-python",
   "name": "python",
   "nbconvert_exporter": "python",
   "pygments_lexer": "ipython3",
   "version": "3.8.3"
  }
 },
 "nbformat": 4,
 "nbformat_minor": 4
}
