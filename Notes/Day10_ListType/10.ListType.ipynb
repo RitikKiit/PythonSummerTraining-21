{
 "cells": [
  {
   "cell_type": "markdown",
   "metadata": {},
   "source": [
    "    String Immutable\n",
    "\n",
    "    Number Immutable "
   ]
  },
  {
   "cell_type": "markdown",
   "metadata": {},
   "source": [
    "    function(arg1, arg2) -> value  -> value = function(arg1, arg2)\n",
    "\n",
    "    function(arg1, arg2) -> None   -> function(arg1, arg2"
   ]
  },
  {
   "cell_type": "code",
   "execution_count": 14,
   "metadata": {},
   "outputs": [
    {
     "name": "stdout",
     "output_type": "stream",
     "text": [
      "Hello World!\n"
     ]
    }
   ],
   "source": [
    "value = print(\"Hello World!\")"
   ]
  },
  {
   "cell_type": "code",
   "execution_count": 15,
   "metadata": {},
   "outputs": [
    {
     "name": "stdout",
     "output_type": "stream",
     "text": [
      "None\n"
     ]
    }
   ],
   "source": [
    "print(value)"
   ]
  },
  {
   "cell_type": "code",
   "execution_count": 16,
   "metadata": {},
   "outputs": [
    {
     "name": "stdout",
     "output_type": "stream",
     "text": [
      "input: hello world!\n"
     ]
    }
   ],
   "source": [
    "name = input(\"input: \")"
   ]
  },
  {
   "cell_type": "code",
   "execution_count": 17,
   "metadata": {},
   "outputs": [
    {
     "name": "stdout",
     "output_type": "stream",
     "text": [
      "hello world! <class 'str'>\n"
     ]
    }
   ],
   "source": [
    "print(name, type(name))"
   ]
  },
  {
   "cell_type": "markdown",
   "metadata": {},
   "source": [
    "## Immutable "
   ]
  },
  {
   "cell_type": "code",
   "execution_count": 19,
   "metadata": {},
   "outputs": [
    {
     "name": "stdout",
     "output_type": "stream",
     "text": [
      "hello world!\n"
     ]
    }
   ],
   "source": [
    "s = \"hello world!\" # immutalbe\n",
    "s.upper() # returns a new string\n",
    "# \"HELLO WORLD!\"\n",
    "print(s)"
   ]
  },
  {
   "cell_type": "code",
   "execution_count": 20,
   "metadata": {},
   "outputs": [
    {
     "name": "stdout",
     "output_type": "stream",
     "text": [
      "hello world!\n",
      "HELLO WORLD!\n"
     ]
    }
   ],
   "source": [
    "s = \"hello world!\" # immutalbe\n",
    "s1 = s.upper() # returns a new string\n",
    "# s1 = \"HELLO WORLD!\"\n",
    "print(s)\n",
    "print(s1)"
   ]
  },
  {
   "cell_type": "code",
   "execution_count": 26,
   "metadata": {},
   "outputs": [
    {
     "name": "stdout",
     "output_type": "stream",
     "text": [
      "['java', 'c', 'c++', 'ruby'] 1723289491584\n",
      "['java', 'c', 'c++', 'ruby', 'php'] 1723289491584\n"
     ]
    }
   ],
   "source": [
    "lang = [ 'java', 'c', 'c++', 'ruby' ]\n",
    "print(lang, id(lang))\n",
    "lang.append('php')\n",
    "# None\n",
    "print(lang, id(lang))"
   ]
  },
  {
   "cell_type": "code",
   "execution_count": 22,
   "metadata": {},
   "outputs": [
    {
     "name": "stdout",
     "output_type": "stream",
     "text": [
      "hello world! 1723289842160\n",
      "HELLO WORLD! 1723289843120\n"
     ]
    }
   ],
   "source": [
    "s = \"hello world!\" # immutalbe\n",
    "print(s, id(s))\n",
    "s = s.upper() # returns a new string\n",
    "# s =  \"HELLO WORLD!\"\n",
    "print(s, id(s))\n"
   ]
  },
  {
   "cell_type": "markdown",
   "metadata": {},
   "source": [
    "### List Data Type in Python\n",
    "\n",
    "* Mutable, Sequential, Ordered, Iterable Type\n",
    "* Collection of other types "
   ]
  },
  {
   "cell_type": "markdown",
   "metadata": {},
   "source": [
    "Any Doubt till Now ? "
   ]
  },
  {
   "cell_type": "code",
   "execution_count": 4,
   "metadata": {},
   "outputs": [],
   "source": [
    "# names of 100 students"
   ]
  },
  {
   "cell_type": "code",
   "execution_count": 5,
   "metadata": {},
   "outputs": [],
   "source": [
    "s = \"Hello World!\""
   ]
  },
  {
   "cell_type": "code",
   "execution_count": 6,
   "metadata": {},
   "outputs": [
    {
     "name": "stdout",
     "output_type": "stream",
     "text": [
      "1235\n"
     ]
    }
   ],
   "source": [
    "n = 1235\n",
    "print(n)"
   ]
  },
  {
   "cell_type": "code",
   "execution_count": 7,
   "metadata": {},
   "outputs": [],
   "source": [
    "mylist = [ 'C', 'Python', \"Machine Learning\", \"Java\"]"
   ]
  },
  {
   "cell_type": "code",
   "execution_count": 12,
   "metadata": {},
   "outputs": [
    {
     "data": {
      "text/plain": [
       "False"
      ]
     },
     "execution_count": 12,
     "metadata": {},
     "output_type": "execute_result"
    }
   ],
   "source": [
    "\"*\".islower()"
   ]
  },
  {
   "cell_type": "code",
   "execution_count": 11,
   "metadata": {},
   "outputs": [
    {
     "data": {
      "text/plain": [
       "False"
      ]
     },
     "execution_count": 11,
     "metadata": {},
     "output_type": "execute_result"
    }
   ],
   "source": [
    "\"_\".islower()"
   ]
  },
  {
   "cell_type": "code",
   "execution_count": 10,
   "metadata": {},
   "outputs": [
    {
     "name": "stdout",
     "output_type": "stream",
     "text": [
      "<class 'list'>\n",
      "append clear copy count extend index insert pop remove reverse sort\n"
     ]
    }
   ],
   "source": [
    "print(type(mylist))\n",
    "print(*[ f for f in dir(mylist) if f[0].islower() ]) # __add__"
   ]
  },
  {
   "cell_type": "markdown",
   "metadata": {},
   "source": [
    "#### Memory\n",
    "\n",
    "    Dynamic Memeory \n",
    "    \n",
    "    id -> address "
   ]
  },
  {
   "cell_type": "markdown",
   "metadata": {},
   "source": [
    "    arr = int [n];\n",
    "\n",
    "    # [] [] [] [] [] [] [];"
   ]
  },
  {
   "cell_type": "markdown",
   "metadata": {},
   "source": [
    "### Link List\n",
    "\n",
    "    Dynamic"
   ]
  },
  {
   "cell_type": "code",
   "execution_count": 29,
   "metadata": {},
   "outputs": [
    {
     "name": "stdout",
     "output_type": "stream",
     "text": [
      "['java', 'c', 'c++'] 1723289239040\n",
      "['java', 'c', 'c++', 'python'] 1723289239040\n"
     ]
    }
   ],
   "source": [
    "lang = [ 'java', 'c', 'c++' ]\n",
    "\n",
    "print(lang, id(lang))\n",
    "\n",
    "lang.append(\"python\") # list.append(item) -> to add item to a list\n",
    "\n",
    "print(lang, id(lang))"
   ]
  },
  {
   "cell_type": "code",
   "execution_count": 34,
   "metadata": {},
   "outputs": [],
   "source": [
    "avai = [ 1, 3.6, 5 + 6j , 'hello', [1, 2, 3], (5, 6, 7), {'name': 'sachin'}]\n",
    "#        0,  1,    2,        3,        4,         5,          6"
   ]
  },
  {
   "cell_type": "code",
   "execution_count": 35,
   "metadata": {},
   "outputs": [
    {
     "name": "stdout",
     "output_type": "stream",
     "text": [
      "[1, 3.6, (5+6j), 'hello', [1, 2, 3], (5, 6, 7), {'name': 'sachin'}]\n"
     ]
    }
   ],
   "source": [
    "print(avai)"
   ]
  },
  {
   "cell_type": "code",
   "execution_count": 41,
   "metadata": {},
   "outputs": [
    {
     "data": {
      "text/plain": [
       "{'name': 'sachin'}"
      ]
     },
     "execution_count": 41,
     "metadata": {},
     "output_type": "execute_result"
    }
   ],
   "source": [
    "avai[6]"
   ]
  },
  {
   "cell_type": "code",
   "execution_count": 45,
   "metadata": {},
   "outputs": [],
   "source": [
    "lang = [ 'java', 'c', 'c++', 'ruby', 'perl', 'python', 'js', 'C#', 'html' ]"
   ]
  },
  {
   "cell_type": "code",
   "execution_count": 46,
   "metadata": {},
   "outputs": [
    {
     "name": "stdout",
     "output_type": "stream",
     "text": [
      "['c', 'ruby', 'python']\n"
     ]
    }
   ],
   "source": [
    "one = lang[1: 6: 2]\n",
    "print(one)"
   ]
  },
  {
   "cell_type": "code",
   "execution_count": 47,
   "metadata": {},
   "outputs": [
    {
     "name": "stdout",
     "output_type": "stream",
     "text": [
      "['html', 'js', 'perl', 'c++']\n"
     ]
    }
   ],
   "source": [
    "two = lang[8: 1: -2]\n",
    "print(two)"
   ]
  },
  {
   "cell_type": "code",
   "execution_count": 48,
   "metadata": {},
   "outputs": [
    {
     "name": "stdout",
     "output_type": "stream",
     "text": [
      "['java', 'c', 'c++', 'ruby', 'perl', 'python', 'js', 'C#', 'html']\n"
     ]
    }
   ],
   "source": [
    "print(lang)"
   ]
  },
  {
   "cell_type": "code",
   "execution_count": 50,
   "metadata": {},
   "outputs": [],
   "source": [
    "rev_lang = lang[::-1]"
   ]
  },
  {
   "cell_type": "code",
   "execution_count": 53,
   "metadata": {},
   "outputs": [
    {
     "name": "stdout",
     "output_type": "stream",
     "text": [
      "['java', 'c', 'c++', 'ruby', 'perl', 'python', 'js', 'C#', 'html']\n",
      "['html', 'C#', 'js', 'python', 'perl', 'ruby', 'c++', 'c', 'java']\n"
     ]
    }
   ],
   "source": [
    "print(lang)\n",
    "print(rev_lang)"
   ]
  },
  {
   "cell_type": "markdown",
   "metadata": {},
   "source": [
    "`indexing & slicing`"
   ]
  },
  {
   "cell_type": "markdown",
   "metadata": {},
   "source": [
    "### Methods of List"
   ]
  },
  {
   "cell_type": "markdown",
   "metadata": {},
   "source": [
    "###### To add new element to a list "
   ]
  },
  {
   "cell_type": "markdown",
   "metadata": {},
   "source": [
    "    list.append(item) -> it will add item at the end of the list\n",
    "    list.insert(loc, item) -> it will add item at the loc index in list\n",
    "    list.extend(iterable) -> it will add one by one element sequentially from iterable to the end of list"
   ]
  },
  {
   "cell_type": "code",
   "execution_count": 54,
   "metadata": {},
   "outputs": [],
   "source": [
    "lang = [ 'java', 'c']"
   ]
  },
  {
   "cell_type": "code",
   "execution_count": 55,
   "metadata": {},
   "outputs": [
    {
     "name": "stdout",
     "output_type": "stream",
     "text": [
      "['java', 'c', 'c++']\n"
     ]
    }
   ],
   "source": [
    "lang.append('c++')\n",
    "print(lang)"
   ]
  },
  {
   "cell_type": "code",
   "execution_count": 56,
   "metadata": {},
   "outputs": [],
   "source": [
    "lang.append('js')"
   ]
  },
  {
   "cell_type": "code",
   "execution_count": 57,
   "metadata": {},
   "outputs": [
    {
     "name": "stdout",
     "output_type": "stream",
     "text": [
      "['java', 'c', 'c++', 'js']\n"
     ]
    }
   ],
   "source": [
    "print(lang)"
   ]
  },
  {
   "cell_type": "code",
   "execution_count": 59,
   "metadata": {},
   "outputs": [],
   "source": [
    "lang.insert(1, 'python')"
   ]
  },
  {
   "cell_type": "code",
   "execution_count": 62,
   "metadata": {},
   "outputs": [
    {
     "name": "stdout",
     "output_type": "stream",
     "text": [
      "['java', 'python', 'c', 'c++', 'js']\n"
     ]
    }
   ],
   "source": [
    "print(lang)"
   ]
  },
  {
   "cell_type": "code",
   "execution_count": 63,
   "metadata": {},
   "outputs": [],
   "source": [
    "lang.insert(4, 'html')"
   ]
  },
  {
   "cell_type": "code",
   "execution_count": 64,
   "metadata": {},
   "outputs": [
    {
     "data": {
      "text/plain": [
       "['java', 'python', 'c', 'c++', 'html', 'js']"
      ]
     },
     "execution_count": 64,
     "metadata": {},
     "output_type": "execute_result"
    }
   ],
   "source": [
    "lang"
   ]
  },
  {
   "cell_type": "code",
   "execution_count": 65,
   "metadata": {},
   "outputs": [],
   "source": [
    "lang.insert(0, 'Bash')"
   ]
  },
  {
   "cell_type": "code",
   "execution_count": 66,
   "metadata": {},
   "outputs": [
    {
     "data": {
      "text/plain": [
       "['Bash', 'java', 'python', 'c', 'c++', 'html', 'js']"
      ]
     },
     "execution_count": 66,
     "metadata": {},
     "output_type": "execute_result"
    }
   ],
   "source": [
    "lang"
   ]
  },
  {
   "cell_type": "code",
   "execution_count": 67,
   "metadata": {},
   "outputs": [],
   "source": [
    "lang.extend( [ 'css', 'php', 'go', 'node js', 'angular js'] )"
   ]
  },
  {
   "cell_type": "code",
   "execution_count": 68,
   "metadata": {},
   "outputs": [
    {
     "name": "stdout",
     "output_type": "stream",
     "text": [
      "['Bash', 'java', 'python', 'c', 'c++', 'html', 'js', 'css', 'php', 'go', 'node js', 'angular js']\n"
     ]
    }
   ],
   "source": [
    "print(lang)"
   ]
  },
  {
   "cell_type": "code",
   "execution_count": null,
   "metadata": {},
   "outputs": [],
   "source": []
  },
  {
   "cell_type": "markdown",
   "metadata": {},
   "source": [
    "#### To remove elements from a list "
   ]
  },
  {
   "cell_type": "markdown",
   "metadata": {},
   "source": [
    "    item = list.pop() # by default will delete last element from list, just opposite of append\n",
    "    item = list.pop(loc) # it will delete item from list which is at index loc, and returns it\n",
    "    list.remove(item) # it will search and delete first occurence of item from list, if item not in list will raise an error\n",
    "    "
   ]
  },
  {
   "cell_type": "code",
   "execution_count": 69,
   "metadata": {},
   "outputs": [
    {
     "name": "stdout",
     "output_type": "stream",
     "text": [
      "['Bash', 'java', 'python', 'c', 'c++', 'html', 'js', 'css', 'php', 'go', 'node js', 'angular js']\n"
     ]
    }
   ],
   "source": [
    "print(lang)"
   ]
  },
  {
   "cell_type": "code",
   "execution_count": 70,
   "metadata": {},
   "outputs": [
    {
     "name": "stdout",
     "output_type": "stream",
     "text": [
      "angular js node js go\n"
     ]
    }
   ],
   "source": [
    "item1 = lang.pop() # angular js\n",
    "item2 = lang.pop() # node js\n",
    "item3 = lang.pop() # go \n",
    "\n",
    "print(item1, item2, item3)"
   ]
  },
  {
   "cell_type": "code",
   "execution_count": 71,
   "metadata": {},
   "outputs": [
    {
     "name": "stdout",
     "output_type": "stream",
     "text": [
      "['Bash', 'java', 'python', 'c', 'c++', 'html', 'js', 'css', 'php']\n"
     ]
    }
   ],
   "source": [
    "print(lang)"
   ]
  },
  {
   "cell_type": "code",
   "execution_count": 72,
   "metadata": {},
   "outputs": [
    {
     "name": "stdout",
     "output_type": "stream",
     "text": [
      "java is delted from list ['Bash', 'python', 'c', 'c++', 'html', 'js', 'css', 'php']\n"
     ]
    }
   ],
   "source": [
    "item = lang.pop(1)\n",
    "\n",
    "print(f\"{item} is delted from list {lang}\")"
   ]
  },
  {
   "cell_type": "code",
   "execution_count": 73,
   "metadata": {},
   "outputs": [
    {
     "name": "stdout",
     "output_type": "stream",
     "text": [
      "['Bash', 'python', 'c', 'c++', 'html', 'js', 'css', 'php']\n"
     ]
    }
   ],
   "source": [
    "print(lang)"
   ]
  },
  {
   "cell_type": "code",
   "execution_count": 74,
   "metadata": {},
   "outputs": [
    {
     "name": "stdout",
     "output_type": "stream",
     "text": [
      "['Bash', 'python', 'c', 'c++', 'js', 'css', 'php']\n"
     ]
    }
   ],
   "source": [
    "lang.pop(4)\n",
    "# 'html'\n",
    "print(lang)"
   ]
  },
  {
   "cell_type": "code",
   "execution_count": 75,
   "metadata": {},
   "outputs": [
    {
     "name": "stdout",
     "output_type": "stream",
     "text": [
      "['Bash', 'python', 'c', 'c++', 'js', 'css', 'php']\n"
     ]
    }
   ],
   "source": [
    "print(lang)"
   ]
  },
  {
   "cell_type": "code",
   "execution_count": 77,
   "metadata": {},
   "outputs": [],
   "source": [
    "lang.extend(['python', 'perl', 'ruby', 'python'])"
   ]
  },
  {
   "cell_type": "code",
   "execution_count": 78,
   "metadata": {},
   "outputs": [
    {
     "name": "stdout",
     "output_type": "stream",
     "text": [
      "['Bash', 'python', 'c', 'c++', 'js', 'css', 'php', 'python', 'perl', 'ruby', 'python']\n"
     ]
    }
   ],
   "source": [
    "print(lang)"
   ]
  },
  {
   "cell_type": "code",
   "execution_count": 79,
   "metadata": {},
   "outputs": [],
   "source": [
    "lang.remove('python') # first occurence of python"
   ]
  },
  {
   "cell_type": "code",
   "execution_count": 80,
   "metadata": {},
   "outputs": [
    {
     "name": "stdout",
     "output_type": "stream",
     "text": [
      "['Bash', 'c', 'c++', 'js', 'css', 'php', 'python', 'perl', 'ruby', 'python']\n"
     ]
    }
   ],
   "source": [
    "print(lang)"
   ]
  },
  {
   "cell_type": "code",
   "execution_count": 81,
   "metadata": {},
   "outputs": [
    {
     "ename": "ValueError",
     "evalue": "list.remove(x): x not in list",
     "output_type": "error",
     "traceback": [
      "\u001b[1;31m---------------------------------------------------------------------------\u001b[0m",
      "\u001b[1;31mValueError\u001b[0m                                Traceback (most recent call last)",
      "\u001b[1;32m<ipython-input-81-1201b297cae8>\u001b[0m in \u001b[0;36m<module>\u001b[1;34m\u001b[0m\n\u001b[1;32m----> 1\u001b[1;33m \u001b[0mlang\u001b[0m\u001b[1;33m.\u001b[0m\u001b[0mremove\u001b[0m\u001b[1;33m(\u001b[0m\u001b[1;34m'sachin'\u001b[0m\u001b[1;33m)\u001b[0m\u001b[1;33m\u001b[0m\u001b[1;33m\u001b[0m\u001b[0m\n\u001b[0m",
      "\u001b[1;31mValueError\u001b[0m: list.remove(x): x not in list"
     ]
    }
   ],
   "source": [
    "lang.remove('sachin')"
   ]
  },
  {
   "cell_type": "code",
   "execution_count": 82,
   "metadata": {},
   "outputs": [
    {
     "ename": "IndexError",
     "evalue": "pop index out of range",
     "output_type": "error",
     "traceback": [
      "\u001b[1;31m---------------------------------------------------------------------------\u001b[0m",
      "\u001b[1;31mIndexError\u001b[0m                                Traceback (most recent call last)",
      "\u001b[1;32m<ipython-input-82-0615154b8ed0>\u001b[0m in \u001b[0;36m<module>\u001b[1;34m\u001b[0m\n\u001b[1;32m----> 1\u001b[1;33m \u001b[0mlang\u001b[0m\u001b[1;33m.\u001b[0m\u001b[0mpop\u001b[0m\u001b[1;33m(\u001b[0m\u001b[1;36m1001\u001b[0m\u001b[1;33m)\u001b[0m\u001b[1;33m\u001b[0m\u001b[1;33m\u001b[0m\u001b[0m\n\u001b[0m",
      "\u001b[1;31mIndexError\u001b[0m: pop index out of range"
     ]
    }
   ],
   "source": [
    "lang.pop(1001)"
   ]
  },
  {
   "cell_type": "code",
   "execution_count": 83,
   "metadata": {},
   "outputs": [
    {
     "name": "stdout",
     "output_type": "stream",
     "text": [
      "['Bash', 'c', 'c++', 'js', 'css', 'php', 'python', 'perl', 'ruby', 'python']\n"
     ]
    }
   ],
   "source": [
    "print(lang)"
   ]
  },
  {
   "cell_type": "code",
   "execution_count": 84,
   "metadata": {},
   "outputs": [],
   "source": [
    "lang.remove('python')"
   ]
  },
  {
   "cell_type": "code",
   "execution_count": 85,
   "metadata": {},
   "outputs": [
    {
     "name": "stdout",
     "output_type": "stream",
     "text": [
      "['Bash', 'c', 'c++', 'js', 'css', 'php', 'perl', 'ruby', 'python']\n"
     ]
    }
   ],
   "source": [
    "print(lang)"
   ]
  },
  {
   "cell_type": "code",
   "execution_count": 89,
   "metadata": {},
   "outputs": [
    {
     "data": {
      "text/plain": [
       "['p', 'y', 't', 'h', 'o', 'n']"
      ]
     },
     "execution_count": 89,
     "metadata": {},
     "output_type": "execute_result"
    }
   ],
   "source": [
    "d = []\n",
    "d.extend('python')\n",
    "d"
   ]
  },
  {
   "cell_type": "code",
   "execution_count": 87,
   "metadata": {},
   "outputs": [
    {
     "ename": "TypeError",
     "evalue": "'int' object is not iterable",
     "output_type": "error",
     "traceback": [
      "\u001b[1;31m---------------------------------------------------------------------------\u001b[0m",
      "\u001b[1;31mTypeError\u001b[0m                                 Traceback (most recent call last)",
      "\u001b[1;32m<ipython-input-87-b3ebaf2afa6e>\u001b[0m in \u001b[0;36m<module>\u001b[1;34m\u001b[0m\n\u001b[0;32m      1\u001b[0m \u001b[0md\u001b[0m \u001b[1;33m=\u001b[0m \u001b[1;33m[\u001b[0m\u001b[1;33m]\u001b[0m\u001b[1;33m\u001b[0m\u001b[1;33m\u001b[0m\u001b[0m\n\u001b[1;32m----> 2\u001b[1;33m \u001b[0md\u001b[0m\u001b[1;33m.\u001b[0m\u001b[0mextend\u001b[0m\u001b[1;33m(\u001b[0m\u001b[1;36m10001\u001b[0m\u001b[1;33m)\u001b[0m\u001b[1;33m\u001b[0m\u001b[1;33m\u001b[0m\u001b[0m\n\u001b[0m",
      "\u001b[1;31mTypeError\u001b[0m: 'int' object is not iterable"
     ]
    }
   ],
   "source": [
    "d = []\n",
    "d.extend(10001)"
   ]
  },
  {
   "cell_type": "code",
   "execution_count": 90,
   "metadata": {},
   "outputs": [],
   "source": [
    "data = [] # []\n",
    "data.append('python')\n",
    "#['python']\n",
    "data.insert(0, 'java')\n",
    "#['java', 'python']\n",
    "data.pop()\n",
    "# [ 'java']\n",
    "data.insert(1, 'python')\n",
    "# [ 'java', 'python']\n",
    "data.extend(['c', 'c++', 'ruby'])\n",
    "# [ 'java', 'python', 'c', 'c++', 'ruby']\n",
    "data.pop(1)\n",
    "# [ 'java', 'c', 'c++', 'ruby']\n",
    "data.insert(2, 'perl')\n",
    "# ['java', 'c', 'perl', 'c++', 'ruby']\n",
    "data.pop(4)\n",
    "# [ 'java', 'c', 'perl', 'c++']\n",
    "data.extend('python')\n",
    "# [ 'java', 'c', 'perl', 'c++', 'p', 'y', 't', 'h', 'o', 'n']\n",
    "data.pop(0)\n",
    "# [ 'c', 'perl', 'c++', 'p', 'y', 't', 'h', 'o', 'n']\n",
    "data.append(['html', 'css', 'js'])\n",
    "#  [ 'c', 'perl', 'c++', 'p', 'y', 't', 'h', 'o', 'n', ['html', 'css', 'js']]"
   ]
  },
  {
   "cell_type": "code",
   "execution_count": 91,
   "metadata": {},
   "outputs": [
    {
     "name": "stdout",
     "output_type": "stream",
     "text": [
      "['c', 'perl', 'c++', 'p', 'y', 't', 'h', 'o', 'n', ['html', 'css', 'js']]\n"
     ]
    }
   ],
   "source": [
    "print(data)"
   ]
  },
  {
   "cell_type": "code",
   "execution_count": 92,
   "metadata": {},
   "outputs": [
    {
     "data": {
      "text/plain": [
       "['html', 'css', 'js']"
      ]
     },
     "execution_count": 92,
     "metadata": {},
     "output_type": "execute_result"
    }
   ],
   "source": [
    "data[-1]"
   ]
  },
  {
   "cell_type": "code",
   "execution_count": null,
   "metadata": {},
   "outputs": [],
   "source": []
  },
  {
   "cell_type": "code",
   "execution_count": 94,
   "metadata": {},
   "outputs": [],
   "source": [
    "nums = [ 1, 5, 6, 9, 3, 10, 8, 3] # homogenous list\n",
    "\n",
    "values = [ 'java', 'c', 'c++', 'ruby', 'python', 'perl'] # homogenous list\n",
    "\n",
    "mylist = [ 'sachin', 24, ['hindi', 'english'], 'India'] # hetrogenous\n",
    "#             0,      1,        2,               3\n",
    "#           name,   age,     languages,         country"
   ]
  },
  {
   "cell_type": "code",
   "execution_count": 95,
   "metadata": {},
   "outputs": [
    {
     "name": "stdout",
     "output_type": "stream",
     "text": [
      "['hi', 'hello', 'bye']\n",
      "['bye', 'hello', 'hi']\n"
     ]
    }
   ],
   "source": [
    "a_list = [ 'hi', 'hello', 'bye']\n",
    "b_list = a_list[::-1]\n",
    "print(a_list)\n",
    "print(b_list)"
   ]
  },
  {
   "cell_type": "code",
   "execution_count": 96,
   "metadata": {},
   "outputs": [
    {
     "name": "stdout",
     "output_type": "stream",
     "text": [
      "['reversed', 'be', 'to', 'has', 'which', 'list', 'a']\n"
     ]
    }
   ],
   "source": [
    "a_list = [ 'a', 'list', 'which', 'has', 'to', 'be', 'reversed']\n",
    "\n",
    "a_list.reverse()\n",
    "print(a_list)"
   ]
  },
  {
   "cell_type": "code",
   "execution_count": 97,
   "metadata": {},
   "outputs": [],
   "source": [
    "a = [ 1, 2, 3, 4, 5]\n",
    "b = a # it is not copy\n",
    "\n",
    "a.append('sachin')"
   ]
  },
  {
   "cell_type": "code",
   "execution_count": 100,
   "metadata": {},
   "outputs": [
    {
     "name": "stdout",
     "output_type": "stream",
     "text": [
      "[1, 2, 3, 4, 5, 'sachin'] 1723305831040\n"
     ]
    }
   ],
   "source": [
    "print(a, id(a))"
   ]
  },
  {
   "cell_type": "code",
   "execution_count": 101,
   "metadata": {},
   "outputs": [
    {
     "name": "stdout",
     "output_type": "stream",
     "text": [
      "[1, 2, 3, 4, 5, 'sachin'] 1723305831040\n"
     ]
    }
   ],
   "source": [
    "print(b, id(b))"
   ]
  },
  {
   "cell_type": "code",
   "execution_count": 102,
   "metadata": {},
   "outputs": [
    {
     "data": {
      "text/plain": [
       "True"
      ]
     },
     "execution_count": 102,
     "metadata": {},
     "output_type": "execute_result"
    }
   ],
   "source": [
    "a is b # a,b ---------> id(1040) -------> [mutable object]"
   ]
  },
  {
   "cell_type": "code",
   "execution_count": 108,
   "metadata": {},
   "outputs": [],
   "source": [
    "from copy import copy, deepcopy\n",
    "\n",
    "# what is difference b/w copy and deep copy ? "
   ]
  },
  {
   "cell_type": "code",
   "execution_count": 103,
   "metadata": {},
   "outputs": [
    {
     "name": "stdout",
     "output_type": "stream",
     "text": [
      "[1, 2, 3, 4, 5] 1723306076160\n",
      "[1, 2, 3, 4, 5] 1723306075968\n",
      "False\n"
     ]
    }
   ],
   "source": [
    "a = [ 1, 2, 3, 4, 5]\n",
    "\n",
    "b = a.copy() # shallow copy\n",
    "\n",
    "print(a, id(a))\n",
    "print(b, id(b))\n",
    "print(a is b)"
   ]
  },
  {
   "cell_type": "code",
   "execution_count": 104,
   "metadata": {},
   "outputs": [],
   "source": [
    "a.append('sachin')"
   ]
  },
  {
   "cell_type": "code",
   "execution_count": 105,
   "metadata": {},
   "outputs": [
    {
     "name": "stdout",
     "output_type": "stream",
     "text": [
      "[1, 2, 3, 4, 5]\n"
     ]
    }
   ],
   "source": [
    "print(b)"
   ]
  },
  {
   "cell_type": "code",
   "execution_count": 106,
   "metadata": {},
   "outputs": [
    {
     "name": "stdout",
     "output_type": "stream",
     "text": [
      "[1, 2, 3, 4, 5, 'sachin']\n"
     ]
    }
   ],
   "source": [
    "print(a)"
   ]
  },
  {
   "cell_type": "markdown",
   "metadata": {},
   "source": [
    "### Methods of a list in Python\n",
    "\n",
    "    list.append(item) -> it will add item at the end of the list\n",
    "    list.insert(loc, item) -> it will add item at the loc index in list\n",
    "    list.extend(iterable) -> it will add one by one element sequentially from iterable to the end of list\n",
    "    \n",
    "    item = list.pop() # by default will delete last element from list, just opposite of append\n",
    "    item = list.pop(loc) # it will delete item from list which is at index loc, and returns it\n",
    "    \n",
    "    list.remove(item) # it will search and delete first occurence of item from list, if item not in list will raise an error\n",
    "\n",
    "    list.sort() -> it will arrange data in ascending order, note: list should be homogenous\n",
    "    list.sort(reverse=True) -> it will arrange data in descnding order\n",
    "    \n",
    "    list.reverse() -> it similar to [::-1] but it will not generate new list, it will rearrange orginal list inplace\n",
    "    \n",
    "    c = list.count(item) -> will return frequecy or no of occurences of item in list\n",
    "    \n",
    "    i = list.index(item) -> will return index value of item from list\n",
    "    \n",
    "    list.clear() -> to remove all elements from a list\n",
    "    \n",
    "    copy = list.copy() -> to make a copy of original list"
   ]
  },
  {
   "cell_type": "code",
   "execution_count": 111,
   "metadata": {},
   "outputs": [],
   "source": [
    "nums = [ 5, 8, 9, 3, 4, 7, 2, 10, 1, 6]\n",
    "\n",
    "copy = nums.copy()"
   ]
  },
  {
   "cell_type": "code",
   "execution_count": 112,
   "metadata": {},
   "outputs": [
    {
     "name": "stdout",
     "output_type": "stream",
     "text": [
      "[5, 8, 9, 3, 4, 7, 2, 10, 1, 6] 1723305838720\n",
      "[5, 8, 9, 3, 4, 7, 2, 10, 1, 6] 1723306059776\n"
     ]
    }
   ],
   "source": [
    "print(nums, id(nums))\n",
    "print(copy, id(copy))"
   ]
  },
  {
   "cell_type": "code",
   "execution_count": 113,
   "metadata": {},
   "outputs": [],
   "source": [
    "nums.sort()"
   ]
  },
  {
   "cell_type": "code",
   "execution_count": 114,
   "metadata": {},
   "outputs": [
    {
     "name": "stdout",
     "output_type": "stream",
     "text": [
      "[1, 2, 3, 4, 5, 6, 7, 8, 9, 10]\n"
     ]
    }
   ],
   "source": [
    "print(nums) # ascending order"
   ]
  },
  {
   "cell_type": "code",
   "execution_count": 115,
   "metadata": {},
   "outputs": [
    {
     "name": "stdout",
     "output_type": "stream",
     "text": [
      "[5, 8, 9, 3, 4, 7, 2, 10, 1, 6]\n"
     ]
    }
   ],
   "source": [
    "print(copy)"
   ]
  },
  {
   "cell_type": "code",
   "execution_count": 116,
   "metadata": {},
   "outputs": [],
   "source": [
    "copy.sort(reverse=True)"
   ]
  },
  {
   "cell_type": "code",
   "execution_count": 117,
   "metadata": {},
   "outputs": [
    {
     "name": "stdout",
     "output_type": "stream",
     "text": [
      "[10, 9, 8, 7, 6, 5, 4, 3, 2, 1]\n"
     ]
    }
   ],
   "source": [
    "print(copy)"
   ]
  },
  {
   "cell_type": "code",
   "execution_count": 121,
   "metadata": {},
   "outputs": [],
   "source": [
    "names = [ 'sachin', 'simran', 'nidhi', 'rajat', 'kushal', 'yadvendra', \n",
    "        'sanjana', 'mansi', 'meena', 'arpit', 'bhavna', 'chetan', \n",
    "        'esha', 'fahruk', 'dk boss',]"
   ]
  },
  {
   "cell_type": "code",
   "execution_count": 122,
   "metadata": {},
   "outputs": [],
   "source": [
    "names.sort()"
   ]
  },
  {
   "cell_type": "code",
   "execution_count": 123,
   "metadata": {},
   "outputs": [
    {
     "name": "stdout",
     "output_type": "stream",
     "text": [
      "['arpit', 'bhavna', 'chetan', 'dk boss', 'esha', 'fahruk', 'kushal', 'mansi', 'meena', 'nidhi', 'rajat', 'sachin', 'sanjana', 'simran', 'yadvendra']\n"
     ]
    }
   ],
   "source": [
    "print(names)"
   ]
  },
  {
   "cell_type": "code",
   "execution_count": 125,
   "metadata": {},
   "outputs": [
    {
     "data": {
      "text/plain": [
       "112"
      ]
     },
     "execution_count": 125,
     "metadata": {},
     "output_type": "execute_result"
    }
   ],
   "source": [
    "ord('p') # ASCII, UTF-8 encode value"
   ]
  },
  {
   "cell_type": "code",
   "execution_count": 126,
   "metadata": {},
   "outputs": [
    {
     "data": {
      "text/plain": [
       "65"
      ]
     },
     "execution_count": 126,
     "metadata": {},
     "output_type": "execute_result"
    }
   ],
   "source": [
    "ord('A') # 65"
   ]
  },
  {
   "cell_type": "code",
   "execution_count": 127,
   "metadata": {},
   "outputs": [
    {
     "data": {
      "text/plain": [
       "90"
      ]
     },
     "execution_count": 127,
     "metadata": {},
     "output_type": "execute_result"
    }
   ],
   "source": [
    "ord('Z') # 90"
   ]
  },
  {
   "cell_type": "code",
   "execution_count": 128,
   "metadata": {},
   "outputs": [
    {
     "data": {
      "text/plain": [
       "97"
      ]
     },
     "execution_count": 128,
     "metadata": {},
     "output_type": "execute_result"
    }
   ],
   "source": [
    "ord('a') # 97"
   ]
  },
  {
   "cell_type": "code",
   "execution_count": 129,
   "metadata": {},
   "outputs": [
    {
     "data": {
      "text/plain": [
       "122"
      ]
     },
     "execution_count": 129,
     "metadata": {},
     "output_type": "execute_result"
    }
   ],
   "source": [
    "ord('z') # 122"
   ]
  },
  {
   "cell_type": "code",
   "execution_count": 131,
   "metadata": {},
   "outputs": [
    {
     "data": {
      "text/plain": [
       "False"
      ]
     },
     "execution_count": 131,
     "metadata": {},
     "output_type": "execute_result"
    }
   ],
   "source": [
    "'A' > 'a'"
   ]
  },
  {
   "cell_type": "code",
   "execution_count": 132,
   "metadata": {},
   "outputs": [
    {
     "data": {
      "text/plain": [
       "False"
      ]
     },
     "execution_count": 132,
     "metadata": {},
     "output_type": "execute_result"
    }
   ],
   "source": [
    "65 > 97"
   ]
  },
  {
   "cell_type": "code",
   "execution_count": 136,
   "metadata": {},
   "outputs": [
    {
     "data": {
      "text/plain": [
       "True"
      ]
     },
     "execution_count": 136,
     "metadata": {},
     "output_type": "execute_result"
    }
   ],
   "source": [
    "\"sachin\" > \"sacain\""
   ]
  },
  {
   "cell_type": "markdown",
   "metadata": {},
   "source": [
    "##### Discover \n",
    "\n",
    "\n",
    "    count, index, clear, reverse\n",
    "  "
   ]
  },
  {
   "cell_type": "markdown",
   "metadata": {},
   "source": [
    "### Dictionaries"
   ]
  },
  {
   "cell_type": "code",
   "execution_count": null,
   "metadata": {},
   "outputs": [],
   "source": []
  }
 ],
 "metadata": {
  "kernelspec": {
   "display_name": "Python 3",
   "language": "python",
   "name": "python3"
  },
  "language_info": {
   "codemirror_mode": {
    "name": "ipython",
    "version": 3
   },
   "file_extension": ".py",
   "mimetype": "text/x-python",
   "name": "python",
   "nbconvert_exporter": "python",
   "pygments_lexer": "ipython3",
   "version": "3.8.3"
  }
 },
 "nbformat": 4,
 "nbformat_minor": 4
}
